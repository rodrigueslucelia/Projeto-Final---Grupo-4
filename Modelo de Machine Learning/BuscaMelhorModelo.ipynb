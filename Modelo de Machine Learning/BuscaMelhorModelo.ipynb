{
 "cells": [
  {
   "cell_type": "code",
   "execution_count": 1,
   "metadata": {},
   "outputs": [],
   "source": [
    "import pandas as pd\n",
    "from sklearn.preprocessing import MinMaxScaler\n",
    "from sklearn.pipeline import Pipeline\n",
    "from sklearn.compose import ColumnTransformer\n",
    "from sklearn.tree import DecisionTreeClassifier\n",
    "from sklearn.neighbors import KNeighborsClassifier\n",
    "from sklearn.linear_model import LogisticRegression\n",
    "from sklearn.model_selection import GridSearchCV, StratifiedKFold\n",
    "from sklearn.metrics import classification_report\n",
    "from sklearn.metrics import accuracy_score, precision_score, recall_score, f1_score, roc_auc_score\n",
    "from sklearn.metrics import confusion_matrix, ConfusionMatrixDisplay\n",
    "import matplotlib.pyplot as plt\n",
    "import seaborn as sns\n",
    "\n",
    "\n"
   ]
  },
  {
   "cell_type": "code",
   "execution_count": null,
   "metadata": {},
   "outputs": [],
   "source": [
    "df = pd.read_csv('C:/Users/lgrodrigues/Documents/Projeto Final/Projeto-Final---Grupo-4/Dataset/advertising_tratado.csv', delimiter=',')\n",
    "print(df)\n",
    "\n",
    "#Split Treino e Teste\n",
    "X = df[['Daily Time Spent on Site','Age', 'Area Income','Daily Internet Usage']]\n",
    "y = df['Clicked on Ad']\n",
    "\n",
    "from sklearn.model_selection import train_test_split\n",
    "X_train, X_test, y_train, y_test = train_test_split(X, y,\n",
    "                                                    test_size=0.2, random_state=42,\n",
    "                                                    stratify=y)\n",
    "\n",
    "#Standard MinMax\n",
    "\n",
    "pipe_features_mm = Pipeline([('scaler', MinMaxScaler())])\n",
    "colunas_num = X_train.columns\n",
    "pre_processador = ColumnTransformer(\n",
    "    transformers=[\n",
    "        (\"pre_process\", pipe_features_mm, colunas_num)\n",
    "    ]\n",
    ")\n",
    "\n",
    "\n"
   ]
  },
  {
   "cell_type": "code",
   "execution_count": 3,
   "metadata": {},
   "outputs": [],
   "source": [
    "#pipeline de modelos\n",
    "pipe_models = Pipeline([\n",
    "    ('pre_processador', pre_processador),\n",
    "    ('classifier', DecisionTreeClassifier())\n",
    "])\n",
    "\n",
    "#Definindo a busca do melhor modelo\n",
    "param_grid = [\n",
    "    {'pre_processador':[pre_processador]},\n",
    "    \n",
    "    {'classifier': [DecisionTreeClassifier(random_state=42)]},\n",
    "\n",
    "\n",
    "    {'classifier': [KNeighborsClassifier(n_neighbors=5)]},\n",
    "\n",
    "    {'classifier': [LogisticRegression(random_state=1)]}\n",
    "]\n",
    "stratified_cv = StratifiedKFold(n_splits=5, shuffle=True, random_state=42)\n",
    "\n",
    "\n",
    "#Cria o objeto de busca\n",
    "grid_search = GridSearchCV(pipe_models, param_grid, cv=stratified_cv, scoring=['precision', 'accuracy', 'f1', 'recall', 'roc_auc' ], refit = 'f1')\n",
    "#treina o modelo\n",
    "grid_search.fit(X_train, y_train)\n",
    "\n",
    "#salva os melhores parâmetros\n",
    "best_params = grid_search.best_params_\n",
    "best_model = grid_search.best_estimator_\n",
    "\n",
    "#Predição considerando o melhor modelo\n",
    "y_pred = best_model.predict(X_test)\n",
    "y_pred_train = best_model.predict(X_train)\n",
    "\n",
    "\n"
   ]
  },
  {
   "cell_type": "code",
   "execution_count": null,
   "metadata": {},
   "outputs": [],
   "source": [
    "# Avaliando métricas\n",
    "accuracy = accuracy_score(y_test, y_pred)\n",
    "precision = precision_score(y_test, y_pred)\n",
    "recall = recall_score(y_test, y_pred)\n",
    "f1 = f1_score(y_test, y_pred)\n",
    "roc_auc = roc_auc_score(y_test, y_pred)\n",
    "\n",
    "print(\"Melhores hiperparâmetros:\", best_params)\n",
    "print(\"Acurácia no conjunto de teste:\", accuracy)\n",
    "print('Precisão no conjunto de teste:', precision)\n",
    "print('F1 no conjunto de teste:', f1)\n",
    "print('Recall no conjunto de teste:', recall)\n",
    "print('ROC_AUC no conjunto de teste:', roc_auc)\n",
    "\n",
    "print(\"\\nClassification Report:\")\n",
    "print(classification_report(y_test, y_pred))\n"
   ]
  },
  {
   "cell_type": "code",
   "execution_count": null,
   "metadata": {},
   "outputs": [],
   "source": [
    "#métricas do  treino\n",
    "accuracy_train = accuracy_score(y_train, y_pred_train)\n",
    "precision_train = precision_score(y_train, y_pred_train)\n",
    "recall_train = recall_score(y_train, y_pred_train)\n",
    "f1_train = f1_score(y_train, y_pred_train)\n",
    "roc_auc_train = roc_auc_score(y_train, y_pred_train)\n",
    "\n",
    "# Imprima os resultados para o treinamento\n",
    "print(\"Acurácia no conjunto de treinamento:\", accuracy_train)\n",
    "print('Precisão no conjunto de treinamento:', precision_train)\n",
    "print('Recall no conjunto de treinamento:', recall_train)\n",
    "print('F1 no conjunto de treinamento:', f1_train)\n",
    "print('ROC AUC no conjunto de treinamento:', roc_auc_train)\n"
   ]
  },
  {
   "cell_type": "code",
   "execution_count": null,
   "metadata": {},
   "outputs": [],
   "source": [
    "#Matriz de confusão teste\n",
    "print(confusion_matrix(y_test, y_pred))\n",
    "\n",
    "ConfusionMatrixDisplay.from_predictions(y_test, y_pred, cmap = 'mako' )\n",
    "plt.title('Matriz de Confusão Teste')\n",
    "plt.xlabel('Predição')\n",
    "plt.ylabel('Verdadeira')\n",
    "plt.grid(False)\n",
    "plt.savefig('Modelo de Machine Learning/MatrizConfusaoTeste.png')\n",
    "plt.show()\n",
    "\n",
    "\n",
    "print(classification_report(y_test, y_pred))\n",
    "\n"
   ]
  },
  {
   "cell_type": "code",
   "execution_count": null,
   "metadata": {},
   "outputs": [],
   "source": [
    "#matriz de confusão treino\n",
    "print(confusion_matrix(y_train, y_pred_train))\n",
    "\n",
    "ConfusionMatrixDisplay.from_predictions(y_train, y_pred_train, cmap = 'mako')\n",
    "plt.title('Matriz de Confusão Treino')\n",
    "plt.xlabel('Predição')\n",
    "plt.ylabel('Verdadeira')\n",
    "plt.grid(False)\n",
    "plt.savefig('Modelo de Machine Learning/MatrizConfusaoTreino.png')\n",
    "plt.show()\n",
    "\n",
    "print(classification_report(y_train, y_pred_train))"
   ]
  },
  {
   "cell_type": "code",
   "execution_count": null,
   "metadata": {},
   "outputs": [],
   "source": [
    "#salvar melhor modelo\n",
    "import joblib\n",
    "joblib.dump(best_model, 'Modelo de Machine Learning/modelo_regressao_logistica.joblib')"
   ]
  }
 ],
 "metadata": {
  "kernelspec": {
   "display_name": "projetofinal",
   "language": "python",
   "name": "python3"
  },
  "language_info": {
   "codemirror_mode": {
    "name": "ipython",
    "version": 3
   },
   "file_extension": ".py",
   "mimetype": "text/x-python",
   "name": "python",
   "nbconvert_exporter": "python",
   "pygments_lexer": "ipython3",
   "version": "3.11.5"
  }
 },
 "nbformat": 4,
 "nbformat_minor": 2
}
